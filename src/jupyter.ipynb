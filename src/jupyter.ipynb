{
 "nbformat": 4,
 "nbformat_minor": 2,
 "metadata": {
  "language_info": {
   "name": "python",
   "codemirror_mode": {
    "name": "ipython",
    "version": 3
   },
   "version": "3.7.5-final"
  },
  "orig_nbformat": 2,
  "file_extension": ".py",
  "mimetype": "text/x-python",
  "name": "python",
  "npconvert_exporter": "python",
  "pygments_lexer": "ipython3",
  "version": 3,
  "kernelspec": {
   "name": "python37564bitenvsvirtualenv5a1fece4824f4130bbeb3be3640097af",
   "display_name": "Python 3.7.5 64-bit ('envs': virtualenv)"
  }
 },
 "cells": [
  {
   "cell_type": "code",
   "execution_count": 51,
   "metadata": {},
   "outputs": [
    {
     "data": {
      "text/html": "<div>\n<style scoped>\n    .dataframe tbody tr th:only-of-type {\n        vertical-align: middle;\n    }\n\n    .dataframe tbody tr th {\n        vertical-align: top;\n    }\n\n    .dataframe thead th {\n        text-align: right;\n    }\n</style>\n<table border=\"1\" class=\"dataframe\">\n  <thead>\n    <tr style=\"text-align: right;\">\n      <th></th>\n      <th>회사명</th>\n      <th>종목코드</th>\n      <th>업종</th>\n      <th>주요제품</th>\n      <th>상장일</th>\n      <th>결산월</th>\n      <th>대표자명</th>\n      <th>홈페이지</th>\n      <th>지역</th>\n    </tr>\n  </thead>\n  <tbody>\n    <tr>\n      <th>0</th>\n      <td>DSR</td>\n      <td>155660</td>\n      <td>1차 비철금속 제조업</td>\n      <td>합섬섬유로프</td>\n      <td>2013-05-15</td>\n      <td>12월</td>\n      <td>홍석빈</td>\n      <td>http://www.dsr.com</td>\n      <td>부산광역시</td>\n    </tr>\n    <tr>\n      <th>1</th>\n      <td>GS글로벌</td>\n      <td>001250</td>\n      <td>상품 종합 도매업</td>\n      <td>수출입업(시멘트,철강금속,전기전자,섬유,기계화학),상품중개,광업,채석업/하수처리 서...</td>\n      <td>1976-06-26</td>\n      <td>12월</td>\n      <td>김태형</td>\n      <td>http://www.gsgcorp.com</td>\n      <td>서울특별시</td>\n    </tr>\n    <tr>\n      <th>2</th>\n      <td>HSD엔진</td>\n      <td>082740</td>\n      <td>일반 목적용 기계 제조업</td>\n      <td>대형선박용엔진,내연발전엔진</td>\n      <td>2011-01-04</td>\n      <td>12월</td>\n      <td>고영열</td>\n      <td>http://www.doosanengine.com</td>\n      <td>경상남도</td>\n    </tr>\n    <tr>\n      <th>3</th>\n      <td>LG이노텍</td>\n      <td>011070</td>\n      <td>전자부품 제조업</td>\n      <td>기타 전자부품 제조업</td>\n      <td>2008-07-24</td>\n      <td>12월</td>\n      <td>정철동</td>\n      <td>http://www.lginnotek.co.kr</td>\n      <td>서울특별시</td>\n    </tr>\n    <tr>\n      <th>4</th>\n      <td>OCI</td>\n      <td>010060</td>\n      <td>기초 화학물질 제조업</td>\n      <td>타르제품,카본블랙,무수프탈산,농약원제,석탄화학제품,정밀화학제품,플라스틱창호재 제조,판매</td>\n      <td>1985-07-09</td>\n      <td>12월</td>\n      <td>백우석, 이우현, 김택중(3인, 각자 대표이사)</td>\n      <td>http://www.oci.co.kr</td>\n      <td>서울특별시</td>\n    </tr>\n  </tbody>\n</table>\n</div>",
      "text/plain": "     회사명    종목코드             업종  \\\n0    DSR  155660    1차 비철금속 제조업   \n1  GS글로벌  001250      상품 종합 도매업   \n2  HSD엔진  082740  일반 목적용 기계 제조업   \n3  LG이노텍  011070       전자부품 제조업   \n4    OCI  010060    기초 화학물질 제조업   \n\n                                                주요제품         상장일  결산월  \\\n0                                             합섬섬유로프  2013-05-15  12월   \n1  수출입업(시멘트,철강금속,전기전자,섬유,기계화학),상품중개,광업,채석업/하수처리 서...  1976-06-26  12월   \n2                                     대형선박용엔진,내연발전엔진  2011-01-04  12월   \n3                                        기타 전자부품 제조업  2008-07-24  12월   \n4   타르제품,카본블랙,무수프탈산,농약원제,석탄화학제품,정밀화학제품,플라스틱창호재 제조,판매  1985-07-09  12월   \n\n                         대표자명                         홈페이지     지역  \n0                         홍석빈           http://www.dsr.com  부산광역시  \n1                         김태형       http://www.gsgcorp.com  서울특별시  \n2                         고영열  http://www.doosanengine.com   경상남도  \n3                         정철동   http://www.lginnotek.co.kr  서울특별시  \n4  백우석, 이우현, 김택중(3인, 각자 대표이사)         http://www.oci.co.kr  서울특별시  "
     },
     "execution_count": 51,
     "metadata": {},
     "output_type": "execute_result"
    }
   ],
   "source": [
    "import pandas as pd\n",
    "\n",
    "code_df = pd.read_html('http://kind.krx.co.kr/corpgeneral/corpList.do?method=download&searchType=13', header=0)[0]\n",
    "code_df.종목코드 = code_df.종목코드.map('{:06d}'.format)\n",
    "code_df.head()"
   ]
  },
  {
   "cell_type": "code",
   "execution_count": 83,
   "metadata": {},
   "outputs": [
    {
     "name": "stdout",
     "output_type": "stream",
     "text": "요청 URL = http://finance.naver.com/item/sise_day.nhn?code=155660\n"
    },
    {
     "data": {
      "text/html": "<div>\n<style scoped>\n    .dataframe tbody tr th:only-of-type {\n        vertical-align: middle;\n    }\n\n    .dataframe tbody tr th {\n        vertical-align: top;\n    }\n\n    .dataframe thead th {\n        text-align: right;\n    }\n</style>\n<table border=\"1\" class=\"dataframe\">\n  <thead>\n    <tr style=\"text-align: right;\">\n      <th></th>\n      <th>날짜</th>\n      <th>종가</th>\n      <th>전일비</th>\n      <th>시가</th>\n      <th>고가</th>\n      <th>저가</th>\n      <th>거래량</th>\n    </tr>\n  </thead>\n  <tbody>\n    <tr>\n      <th>2443</th>\n      <td>2013-05-24</td>\n      <td>5460</td>\n      <td>50</td>\n      <td>5630</td>\n      <td>5750</td>\n      <td>5340</td>\n      <td>1429636</td>\n    </tr>\n    <tr>\n      <th>2442</th>\n      <td>2013-05-27</td>\n      <td>5540</td>\n      <td>80</td>\n      <td>5470</td>\n      <td>5580</td>\n      <td>5420</td>\n      <td>637980</td>\n    </tr>\n    <tr>\n      <th>2441</th>\n      <td>2013-05-28</td>\n      <td>5620</td>\n      <td>80</td>\n      <td>5540</td>\n      <td>5620</td>\n      <td>5350</td>\n      <td>888954</td>\n    </tr>\n    <tr>\n      <th>2440</th>\n      <td>2013-05-29</td>\n      <td>5310</td>\n      <td>310</td>\n      <td>5710</td>\n      <td>5780</td>\n      <td>5310</td>\n      <td>970528</td>\n    </tr>\n    <tr>\n      <th>2439</th>\n      <td>2013-05-30</td>\n      <td>5100</td>\n      <td>210</td>\n      <td>5350</td>\n      <td>5390</td>\n      <td>5100</td>\n      <td>585149</td>\n    </tr>\n  </tbody>\n</table>\n</div>",
      "text/plain": "             날짜    종가  전일비    시가    고가    저가      거래량\n2443 2013-05-24  5460   50  5630  5750  5340  1429636\n2442 2013-05-27  5540   80  5470  5580  5420   637980\n2441 2013-05-28  5620   80  5540  5620  5350   888954\n2440 2013-05-29  5310  310  5710  5780  5310   970528\n2439 2013-05-30  5100  210  5350  5390  5100   585149"
     },
     "execution_count": 83,
     "metadata": {},
     "output_type": "execute_result"
    }
   ],
   "source": [
    "import requests\n",
    "from bs4 import BeautifulSoup\n",
    "\n",
    "def get_url(item_name, code_df):\n",
    "    code = code_df.query(\"회사명=='{}'\".format(item_name))['종목코드'].to_string(index=False).strip()\n",
    "    url = 'http://finance.naver.com/item/sise_day.nhn?code={code}'.format(code=code)\n",
    "    \n",
    "    print(\"요청 URL = {}\".format(url))\n",
    "    return url\n",
    "\n",
    "item_name='DSR'\n",
    "url = get_url(item_name, code_df)\n",
    "res = requests.get(url)\n",
    "\n",
    "soap = BeautifulSoup(res.text, 'lxml')\n",
    "pg_last = int(soap.find(\"table\", class_=\"Nnavi\").find(\"td\", class_=\"pgRR\").a.get('href').rsplit('&')[1].split('=')[1])\n",
    "\n",
    "df = pd.DataFrame()\n",
    "\n",
    "for page in range(1, pg_last):\n",
    "    pg_url = '{url}&page={page}'.format(url=url, page=page)\n",
    "    df = df.append(pd.read_html(pg_url, header=0)[0], ignore_index=True)\n",
    "\n",
    "# df.dropna()를 이용해 결측값 있는 행 제거\n",
    "df = df.dropna()\n",
    "\n",
    "# 데이터의 타입을 int형으로 바꿔줌\n",
    "df[['종가', '전일비', '시가', '고가', '저가', '거래량']] \\\n",
    "    = df[['종가', '전일비', '시가', '고가', '저가', '거래량']].astype(int)\n",
    "\n",
    "# 컬럼명 'date'의 타입을 date로 바꿔줌\n",
    "df['날짜'] = pd.to_datetime(df['날짜'])\n",
    "\n",
    "# 일자(date)를 기준으로 오름차순 정렬\n",
    "df = df.sort_values(by=['날짜'], ascending=True)\n",
    "\n",
    "# 상위 5개 데이터 확인\n",
    "df.head()"
   ]
  },
  {
   "cell_type": "code",
   "execution_count": 127,
   "metadata": {},
   "outputs": [
    {
     "name": "stdout",
     "output_type": "stream",
     "text": "stock_price-2013-05\n{'회사명': 'DSR', '종목코드': '155660', '업종': '1차 비철금속 제조업', '주요제품': '합섬섬유로프', '상장일': '2013-05-15', '결산월': '12월', '대표자명': '홍석빈', '홈페이지': 'http://www.dsr.com', '지역': '부산광역시', '날짜': Timestamp('2013-05-24 00:00:00'), '종가': 5460, '전일비': 50, '시가': 5630, '고가': 5750, '저가': 5340, '거래량': 1429636}\n"
    }
   ],
   "source": [
    "import elasticsearch\n",
    "import json\n",
    "\n",
    "es_client = elasticsearch.Elasticsearch(\"localhost:9200\", http_auth = (\"elastic\", \"changeme\"))\n",
    "\n",
    "\n",
    "row = df.values.tolist()[0]\n",
    "\n",
    "company_info = code_df.query(\"회사명=='{}'\".format(item_name)).to_dict('records')[0]\n",
    "\n",
    "\n",
    "\n",
    "\n",
    "company_info = code_df.query(\"회사명=='{}'\".format(item_name)).to_dict('records')[0]\n",
    "\n",
    "for price_info in df.to_dict('records'):\n",
    "    doc = {}; index_date = price_info['날짜'].strftime(\"%Y-%m\")\n",
    "    index_name = f'stock_price-{index_date}'\n",
    "    doc.update(company_info)\n",
    "    doc.update(price_info)\n",
    "    es_client.index(index=index_name, body=doc)\n",
    "    print(index_name)\n",
    "    print(doc)\n",
    "    break\n",
    "\n",
    "\n",
    "\n",
    "\n",
    "\n",
    "\n",
    "\n",
    "\n",
    "\n"
   ]
  },
  {
   "cell_type": "code",
   "execution_count": null,
   "metadata": {},
   "outputs": [],
   "source": [
    "import plotly.offline as offline \n",
    "import plotly.graph_objs as go \n",
    "\n",
    "# jupyter notebook 에서 출력 \n",
    "offline.init_notebook_mode(connected=True)\n",
    "\n",
    "trace = go.Scatter(\n",
    "                x=df.날짜,\n",
    "                y=df.종가,\n",
    "                name=item_name)\n",
    "\n",
    "data = [trace]\n",
    "\n",
    "# data = [celltrion]\n",
    "layout = dict(\n",
    "            title=f'{item_name}의 종가(close) Time Series',\n",
    "            xaxis=dict(\n",
    "                rangeselector=dict(\n",
    "                    buttons=list([\n",
    "                        dict(count=1,\n",
    "                             label='1m',\n",
    "                             step='month',\n",
    "                             stepmode='backward'),\n",
    "                        dict(count=3,\n",
    "                             label='3m',\n",
    "                             step='month',\n",
    "                             stepmode='backward'),\n",
    "                        dict(count=6,\n",
    "                             label='6m',\n",
    "                             step='month',\n",
    "                             stepmode='backward'),\n",
    "                        dict(step='all')\n",
    "                    ])\n",
    "                ),\n",
    "                rangeslider=dict(),\n",
    "                type='date'\n",
    "            )\n",
    "        )\n",
    "\n",
    "fig = go.Figure(data=data, layout=layout)\n",
    "offline.iplot(fig)"
   ]
  }
 ]
}